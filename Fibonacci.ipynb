{
 "cells": [
  {
   "cell_type": "markdown",
   "metadata": {},
   "source": [
    "# Recursive và Iteration\n",
    "\n",
    "###  BS. Lê Ngọc Khả Nhi\n",
    "\n",
    "Giải quyết vấn đề theo nguyên tắc'đệ quy' (Recursive) là một khái niệm hấp dẫn nhưng không đễ dàng khi học lập trình. Một trong những bài toán kinh điển về hàm đệ quy là tạo dãy số Fibonacci, với nội dung như sau: Cho một số nguyên n, viết 1 hàm để tính con số thứ n trong dãy Fibonacci.Bài toán này rất phổ biến và thỉnh thoảng được dùng trong các buổi code interview khi người ta muốn kiểm tra kĩ năng viết recursive function. Tuy nhiên, recursive function lại không phải là giải pháp tối ưu cho bài toán này.\n",
    "\n",
    "Chúng ta thử giải quyết bài toán này theo 3 cách khác nhau với Python, qua đó điểm lại những tiện ích mà ngôn ngữ này cung cấp, bao gồm dictionary, tuple, list; và hình dung về sự khác biệt giữa 2 cách tiếp cận vấn đề: Iteration và Recursive.\n",
    "\n",
    "# Giải pháp Recursive\n",
    "\n",
    "Cách tiếp cận \"đệ quy\" rất đơn giản, và tất cả mọi người đều nghĩ ngay đến giải pháp này vì tính chất đệ quy của vấn đề quá dễ nhận ra: chúng ta có 1 trường hợp cơ bản là 2 con số đầu tiên trong dãy số, sau đó những số còn lại được tính theo công thức = (n-1) + (n-2)"
   ]
  },
  {
   "cell_type": "code",
   "execution_count": 1,
   "metadata": {},
   "outputs": [],
   "source": [
    "def gen_Fib(n):\n",
    "    if n<=2:\n",
    "        return n-1\n",
    "    else:\n",
    "        return gen_Fib(n-1) + gen_Fib(n-2)"
   ]
  },
  {
   "cell_type": "code",
   "execution_count": 3,
   "metadata": {},
   "outputs": [
    {
     "name": "stdout",
     "output_type": "stream",
     "text": [
      "[0, 1, 1, 2, 3, 5, 8, 13, 21, 34, 55, 89, 144, 233, 377, 610, 987, 1597, 2584, 4181]\n"
     ]
    }
   ],
   "source": [
    "print([gen_Fib(i+1) for i in range(20)])"
   ]
  },
  {
   "cell_type": "markdown",
   "metadata": {},
   "source": [
    "Ta thấy rằng giải pháp recursive làm đơn giản nội dung của hàm, phần code trở nên rất ngắn gọn; tuy nhiên khi thi hành, hàm recursive sẽ đi theo con đường hình cây phân nhánh, nên sẽ có hiệu suất về thời gian là O(2^n), và hiệu suất về không gian là O(n). Khi n tăng lên, hàm recursive sẽ trở nên rất chậm."
   ]
  },
  {
   "cell_type": "markdown",
   "metadata": {},
   "source": [
    "# Kết hợp recursive và memoization\n",
    "\n",
    "Với mong muốn cải thiện hiệu suất về thời gian, ta có thể dùng 1 hashtable hay dictionary để làm bộ nhớ đệm bên trong hàm recursive, vì dictionary cho phép tốc độ truy xuất và cập nhật dữ liệu nhanh:\n",
    "\n",
    "Hàm này có hiệu suất thời gian là O(n) và hiệu suất không gian là O(n)"
   ]
  },
  {
   "cell_type": "code",
   "execution_count": 4,
   "metadata": {},
   "outputs": [],
   "source": [
    "def gen_Fib2(n, mem = {1:0, 2:1}):\n",
    "    if n in mem:\n",
    "        return mem[n]\n",
    "    else:\n",
    "        mem[n] = gen_Fib2(n-1, mem) + gen_Fib2(n-2, mem)\n",
    "        return mem[n]"
   ]
  },
  {
   "cell_type": "code",
   "execution_count": 5,
   "metadata": {},
   "outputs": [
    {
     "name": "stdout",
     "output_type": "stream",
     "text": [
      "[0, 1, 1, 2, 3, 5, 8, 13, 21, 34, 55, 89, 144, 233, 377, 610, 987, 1597, 2584, 4181, 6765, 10946, 17711, 28657, 46368, 75025, 121393, 196418, 317811, 514229, 832040, 1346269, 2178309, 3524578, 5702887, 9227465, 14930352, 24157817, 39088169, 63245986, 102334155, 165580141, 267914296, 433494437, 701408733, 1134903170, 1836311903, 2971215073, 4807526976, 7778742049, 12586269025, 20365011074, 32951280099, 53316291173, 86267571272, 139583862445, 225851433717, 365435296162, 591286729879, 956722026041, 1548008755920, 2504730781961, 4052739537881, 6557470319842, 10610209857723, 17167680177565, 27777890035288, 44945570212853, 72723460248141, 117669030460994, 190392490709135, 308061521170129, 498454011879264, 806515533049393, 1304969544928657, 2111485077978050, 3416454622906707, 5527939700884757, 8944394323791464, 14472334024676221, 23416728348467685, 37889062373143906, 61305790721611591, 99194853094755497, 160500643816367088, 259695496911122585, 420196140727489673, 679891637638612258, 1100087778366101931, 1779979416004714189, 2880067194370816120, 4660046610375530309, 7540113804746346429, 12200160415121876738, 19740274219868223167, 31940434634990099905, 51680708854858323072, 83621143489848422977, 135301852344706746049, 218922995834555169026]\n"
     ]
    }
   ],
   "source": [
    "print([gen_Fib2(i+1) for i in range(100)])"
   ]
  },
  {
   "cell_type": "markdown",
   "metadata": {},
   "source": [
    "# Giải pháp iteration\n",
    "\n",
    "Tuy nhiên, giải pháp tối ưu cho bài toán này hoàn toàn không dùng đến recursive function, mà chỉ cần iteration trên 1 list.\n",
    "Hàm này cũng có hiệu suất thời gian là O(n). Nhưng ở đây toàn bộ quy trình chỉ diễn ra trên 1 list tên là base gồm 2 phần tử với 2 index 0 và 1; khi n tiến lên, list base hoạt động như 1 cửa sổ trượt và thao tác duy nhất là cập nhật index 0 với index 1, và index 1 với số Fibonacci tiếp theo, do đó hiệu suất không gian là O(1)."
   ]
  },
  {
   "cell_type": "code",
   "execution_count": 6,
   "metadata": {},
   "outputs": [],
   "source": [
    "def gen_Fib3(n):\n",
    "    base = [0,1]\n",
    "    i = 3\n",
    "    while i <= n:\n",
    "        next_fib = base[0] + base[1]\n",
    "        base[0], base[1] = base[1], next_fib\n",
    "        i += 1\n",
    "    return base[1] if n>1 else base[0]"
   ]
  },
  {
   "cell_type": "code",
   "execution_count": 7,
   "metadata": {},
   "outputs": [
    {
     "name": "stdout",
     "output_type": "stream",
     "text": [
      "[0, 1, 1, 2, 3, 5, 8, 13, 21, 34, 55, 89, 144, 233, 377, 610, 987, 1597, 2584, 4181, 6765, 10946, 17711, 28657, 46368, 75025, 121393, 196418, 317811, 514229, 832040, 1346269, 2178309, 3524578, 5702887, 9227465, 14930352, 24157817, 39088169, 63245986, 102334155, 165580141, 267914296, 433494437, 701408733, 1134903170, 1836311903, 2971215073, 4807526976, 7778742049, 12586269025, 20365011074, 32951280099, 53316291173, 86267571272, 139583862445, 225851433717, 365435296162, 591286729879, 956722026041, 1548008755920, 2504730781961, 4052739537881, 6557470319842, 10610209857723, 17167680177565, 27777890035288, 44945570212853, 72723460248141, 117669030460994, 190392490709135, 308061521170129, 498454011879264, 806515533049393, 1304969544928657, 2111485077978050, 3416454622906707, 5527939700884757, 8944394323791464, 14472334024676221, 23416728348467685, 37889062373143906, 61305790721611591, 99194853094755497, 160500643816367088, 259695496911122585, 420196140727489673, 679891637638612258, 1100087778366101931, 1779979416004714189, 2880067194370816120, 4660046610375530309, 7540113804746346429, 12200160415121876738, 19740274219868223167, 31940434634990099905, 51680708854858323072, 83621143489848422977, 135301852344706746049, 218922995834555169026]\n"
     ]
    }
   ],
   "source": [
    "print([gen_Fib3(i+1) for i in range(100)])"
   ]
  },
  {
   "cell_type": "markdown",
   "metadata": {},
   "source": [
    "Bài học rút ra: Recursive function là một giải pháp \"thông minh\" và gọn đẹp, tuy nhiên không phải là giải pháp duy nhất, và rất có thể không phải là tối ưu cho 1 vấn đề."
   ]
  },
  {
   "cell_type": "code",
   "execution_count": null,
   "metadata": {},
   "outputs": [],
   "source": []
  }
 ],
 "metadata": {
  "hide_input": false,
  "kernelspec": {
   "display_name": "Python 3",
   "language": "python",
   "name": "python3"
  },
  "language_info": {
   "codemirror_mode": {
    "name": "ipython",
    "version": 3
   },
   "file_extension": ".py",
   "mimetype": "text/x-python",
   "name": "python",
   "nbconvert_exporter": "python",
   "pygments_lexer": "ipython3",
   "version": "3.7.6"
  },
  "toc": {
   "base_numbering": 1,
   "nav_menu": {},
   "number_sections": true,
   "sideBar": true,
   "skip_h1_title": false,
   "title_cell": "Table of Contents",
   "title_sidebar": "Contents",
   "toc_cell": false,
   "toc_position": {},
   "toc_section_display": true,
   "toc_window_display": false
  }
 },
 "nbformat": 4,
 "nbformat_minor": 4
}
